{
 "cells": [
  {
   "cell_type": "code",
   "execution_count": null,
   "id": "51f96d0d",
   "metadata": {},
   "outputs": [],
   "source": [
    "import random\n",
    "\n",
    "# the options the player can choose from\n",
    "options = [\"rock\",\"paper\",\"scissors\"]\n",
    "\n",
    "# The computer's choice \n",
    "comput_choice =random.choice(options)\n",
    "\n",
    "# Get the player's choice\n",
    "player_choice = input(\" Choose rock, paper, scissors: \")\n",
    "\n",
    "#Check for a tie\n",
    "if player_choice ==comput_choice:\n",
    "    print(\"its a tie! \")\n",
    "\n",
    "#Check for a rock\n",
    "elif player_choice ==\"rock\":\n",
    "    if comput_choice ==\"paper\":\n",
    "        print(\" You lose:( \")\n",
    "    else:\n",
    "        print(\"You win!! \")\n",
    "        \n",
    "#Check for paper\n",
    "elif player_choice == \"paper\":\n",
    "    if comput_choice ==\"scissors\":\n",
    "        print(\"You lose:( \")\n",
    "    else:\n",
    "        print(\"You win!! \")\n",
    "        \n",
    "#Handle invalid input\n",
    "\n",
    "else:\n",
    "    print(\"Invalid input. Please try again.\")"
   ]
  },
  {
   "cell_type": "code",
   "execution_count": null,
   "id": "eced263d",
   "metadata": {},
   "outputs": [],
   "source": []
  },
  {
   "cell_type": "code",
   "execution_count": null,
   "id": "42252531",
   "metadata": {},
   "outputs": [],
   "source": []
  }
 ],
 "metadata": {
  "kernelspec": {
   "display_name": "Python 3 (ipykernel)",
   "language": "python",
   "name": "python3"
  },
  "language_info": {
   "codemirror_mode": {
    "name": "ipython",
    "version": 3
   },
   "file_extension": ".py",
   "mimetype": "text/x-python",
   "name": "python",
   "nbconvert_exporter": "python",
   "pygments_lexer": "ipython3",
   "version": "3.9.13"
  }
 },
 "nbformat": 4,
 "nbformat_minor": 5
}
